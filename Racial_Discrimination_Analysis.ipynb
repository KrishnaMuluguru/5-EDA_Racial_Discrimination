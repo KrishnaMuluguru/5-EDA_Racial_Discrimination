{
 "cells": [
  {
   "cell_type": "markdown",
   "metadata": {},
   "source": [
    "# Examining Racial Discrimination in the US Job Market\n",
    "\n",
    "### Background\n",
    "Racial discrimination continues to be pervasive in cultures throughout the world. Researchers examined the level of racial discrimination in the United States labor market by randomly assigning identical résumés to black-sounding or white-sounding names and observing the impact on requests for interviews from employers.\n",
    "\n",
    "### Data\n",
    "In the dataset provided, each row represents a resume. The 'race' column has two values, 'b' and 'w', indicating black-sounding and white-sounding. The column 'call' has two values, 1 and 0, indicating whether the resume received a call from employers or not.\n",
    "\n",
    "Note that the 'b' and 'w' values in race are assigned randomly to the resumes when presented to the employer."
   ]
  },
  {
   "cell_type": "markdown",
   "metadata": {},
   "source": [
    "### Exercises\n",
    "You will perform a statistical analysis to establish whether race has a significant impact on the rate of callbacks for resumes.\n",
    "\n",
    "Answer the following questions **in this notebook below and submit to your Github account**. \n",
    "\n",
    "   1. What test is appropriate for this problem? Does CLT apply?\n",
    "   2. What are the null and alternate hypotheses?\n",
    "   3. Compute margin of error, confidence interval, and p-value. Try using both the bootstrapping and the frequentist statistical approaches.\n",
    "   4. Write a story describing the statistical significance in the context or the original problem.\n",
    "   5. Does your analysis mean that race/name is the most important factor in callback success? Why or why not? If not, how would you amend your analysis?\n",
    "\n",
    "You can include written notes in notebook cells using Markdown: \n",
    "   - In the control panel at the top, choose Cell > Cell Type > Markdown\n",
    "   - Markdown syntax: http://nestacms.com/docs/creating-content/markdown-cheat-sheet\n",
    "\n",
    "#### Resources\n",
    "+ Experiment information and data source: http://www.povertyactionlab.org/evaluation/discrimination-job-market-united-states\n",
    "+ Scipy statistical methods: http://docs.scipy.org/doc/scipy/reference/stats.html \n",
    "+ Markdown syntax: http://nestacms.com/docs/creating-content/markdown-cheat-sheet\n",
    "+ Formulas for the Bernoulli distribution: https://en.wikipedia.org/wiki/Bernoulli_distribution"
   ]
  },
  {
   "cell_type": "code",
   "execution_count": 61,
   "metadata": {},
   "outputs": [],
   "source": [
    "import pandas as pd\n",
    "import numpy as np\n",
    "from scipy import stats as st\n",
    "import statsmodels.stats.proportion as stprop\n",
    "import matplotlib.pyplot as plt\n",
    "import matplotlib.mlab as mlab\n",
    "import seaborn as sns\n",
    "%matplotlib inline\n",
    "sns.set()"
   ]
  },
  {
   "cell_type": "code",
   "execution_count": 3,
   "metadata": {},
   "outputs": [],
   "source": [
    "data = pd.io.stata.read_stata('data/us_job_market_discrimination.dta')"
   ]
  },
  {
   "cell_type": "code",
   "execution_count": 4,
   "metadata": {},
   "outputs": [
    {
     "name": "stdout",
     "output_type": "stream",
     "text": [
      "w: 2435 call: 235 Percentage: 0.09650924024640657\n",
      "b: 2435 call: 157 Percentage: 0.06447638603696099\n"
     ]
    }
   ],
   "source": [
    "# number of entries and callbacks by race\n",
    "print('w:',sum(data.race=='w'),'call:',sum((data.race=='w') & (data.call==1)),'Percentage:',sum((data.race=='w') & (data.call==1))/sum(data.race=='w'))\n",
    "print('b:',sum(data.race=='b'),'call:',sum((data.race=='b') & (data.call==1)),'Percentage:',sum((data.race=='b') & (data.call==1))/sum(data.race=='b'))"
   ]
  },
  {
   "cell_type": "code",
   "execution_count": 5,
   "metadata": {},
   "outputs": [
    {
     "data": {
      "text/html": [
       "<div>\n",
       "<style scoped>\n",
       "    .dataframe tbody tr th:only-of-type {\n",
       "        vertical-align: middle;\n",
       "    }\n",
       "\n",
       "    .dataframe tbody tr th {\n",
       "        vertical-align: top;\n",
       "    }\n",
       "\n",
       "    .dataframe thead th {\n",
       "        text-align: right;\n",
       "    }\n",
       "</style>\n",
       "<table border=\"1\" class=\"dataframe\">\n",
       "  <thead>\n",
       "    <tr style=\"text-align: right;\">\n",
       "      <th></th>\n",
       "      <th>id</th>\n",
       "      <th>ad</th>\n",
       "      <th>education</th>\n",
       "      <th>ofjobs</th>\n",
       "      <th>yearsexp</th>\n",
       "      <th>honors</th>\n",
       "      <th>volunteer</th>\n",
       "      <th>military</th>\n",
       "      <th>empholes</th>\n",
       "      <th>occupspecific</th>\n",
       "      <th>...</th>\n",
       "      <th>compreq</th>\n",
       "      <th>orgreq</th>\n",
       "      <th>manuf</th>\n",
       "      <th>transcom</th>\n",
       "      <th>bankreal</th>\n",
       "      <th>trade</th>\n",
       "      <th>busservice</th>\n",
       "      <th>othservice</th>\n",
       "      <th>missind</th>\n",
       "      <th>ownership</th>\n",
       "    </tr>\n",
       "  </thead>\n",
       "  <tbody>\n",
       "    <tr>\n",
       "      <th>0</th>\n",
       "      <td>b</td>\n",
       "      <td>1</td>\n",
       "      <td>4</td>\n",
       "      <td>2</td>\n",
       "      <td>6</td>\n",
       "      <td>0</td>\n",
       "      <td>0</td>\n",
       "      <td>0</td>\n",
       "      <td>1</td>\n",
       "      <td>17</td>\n",
       "      <td>...</td>\n",
       "      <td>1.0</td>\n",
       "      <td>0.0</td>\n",
       "      <td>1.0</td>\n",
       "      <td>0.0</td>\n",
       "      <td>0.0</td>\n",
       "      <td>0.0</td>\n",
       "      <td>0.0</td>\n",
       "      <td>0.0</td>\n",
       "      <td>0.0</td>\n",
       "      <td></td>\n",
       "    </tr>\n",
       "    <tr>\n",
       "      <th>1</th>\n",
       "      <td>b</td>\n",
       "      <td>1</td>\n",
       "      <td>3</td>\n",
       "      <td>3</td>\n",
       "      <td>6</td>\n",
       "      <td>0</td>\n",
       "      <td>1</td>\n",
       "      <td>1</td>\n",
       "      <td>0</td>\n",
       "      <td>316</td>\n",
       "      <td>...</td>\n",
       "      <td>1.0</td>\n",
       "      <td>0.0</td>\n",
       "      <td>1.0</td>\n",
       "      <td>0.0</td>\n",
       "      <td>0.0</td>\n",
       "      <td>0.0</td>\n",
       "      <td>0.0</td>\n",
       "      <td>0.0</td>\n",
       "      <td>0.0</td>\n",
       "      <td></td>\n",
       "    </tr>\n",
       "    <tr>\n",
       "      <th>2</th>\n",
       "      <td>b</td>\n",
       "      <td>1</td>\n",
       "      <td>4</td>\n",
       "      <td>1</td>\n",
       "      <td>6</td>\n",
       "      <td>0</td>\n",
       "      <td>0</td>\n",
       "      <td>0</td>\n",
       "      <td>0</td>\n",
       "      <td>19</td>\n",
       "      <td>...</td>\n",
       "      <td>1.0</td>\n",
       "      <td>0.0</td>\n",
       "      <td>1.0</td>\n",
       "      <td>0.0</td>\n",
       "      <td>0.0</td>\n",
       "      <td>0.0</td>\n",
       "      <td>0.0</td>\n",
       "      <td>0.0</td>\n",
       "      <td>0.0</td>\n",
       "      <td></td>\n",
       "    </tr>\n",
       "    <tr>\n",
       "      <th>3</th>\n",
       "      <td>b</td>\n",
       "      <td>1</td>\n",
       "      <td>3</td>\n",
       "      <td>4</td>\n",
       "      <td>6</td>\n",
       "      <td>0</td>\n",
       "      <td>1</td>\n",
       "      <td>0</td>\n",
       "      <td>1</td>\n",
       "      <td>313</td>\n",
       "      <td>...</td>\n",
       "      <td>1.0</td>\n",
       "      <td>0.0</td>\n",
       "      <td>1.0</td>\n",
       "      <td>0.0</td>\n",
       "      <td>0.0</td>\n",
       "      <td>0.0</td>\n",
       "      <td>0.0</td>\n",
       "      <td>0.0</td>\n",
       "      <td>0.0</td>\n",
       "      <td></td>\n",
       "    </tr>\n",
       "    <tr>\n",
       "      <th>4</th>\n",
       "      <td>b</td>\n",
       "      <td>1</td>\n",
       "      <td>3</td>\n",
       "      <td>3</td>\n",
       "      <td>22</td>\n",
       "      <td>0</td>\n",
       "      <td>0</td>\n",
       "      <td>0</td>\n",
       "      <td>0</td>\n",
       "      <td>313</td>\n",
       "      <td>...</td>\n",
       "      <td>1.0</td>\n",
       "      <td>1.0</td>\n",
       "      <td>0.0</td>\n",
       "      <td>0.0</td>\n",
       "      <td>0.0</td>\n",
       "      <td>0.0</td>\n",
       "      <td>0.0</td>\n",
       "      <td>1.0</td>\n",
       "      <td>0.0</td>\n",
       "      <td>Nonprofit</td>\n",
       "    </tr>\n",
       "  </tbody>\n",
       "</table>\n",
       "<p>5 rows × 65 columns</p>\n",
       "</div>"
      ],
      "text/plain": [
       "  id ad  education  ofjobs  yearsexp  honors  volunteer  military  empholes  \\\n",
       "0  b  1          4       2         6       0          0         0         1   \n",
       "1  b  1          3       3         6       0          1         1         0   \n",
       "2  b  1          4       1         6       0          0         0         0   \n",
       "3  b  1          3       4         6       0          1         0         1   \n",
       "4  b  1          3       3        22       0          0         0         0   \n",
       "\n",
       "   occupspecific    ...      compreq  orgreq  manuf  transcom  bankreal trade  \\\n",
       "0             17    ...          1.0     0.0    1.0       0.0       0.0   0.0   \n",
       "1            316    ...          1.0     0.0    1.0       0.0       0.0   0.0   \n",
       "2             19    ...          1.0     0.0    1.0       0.0       0.0   0.0   \n",
       "3            313    ...          1.0     0.0    1.0       0.0       0.0   0.0   \n",
       "4            313    ...          1.0     1.0    0.0       0.0       0.0   0.0   \n",
       "\n",
       "  busservice othservice  missind  ownership  \n",
       "0        0.0        0.0      0.0             \n",
       "1        0.0        0.0      0.0             \n",
       "2        0.0        0.0      0.0             \n",
       "3        0.0        0.0      0.0             \n",
       "4        0.0        1.0      0.0  Nonprofit  \n",
       "\n",
       "[5 rows x 65 columns]"
      ]
     },
     "execution_count": 5,
     "metadata": {},
     "output_type": "execute_result"
    }
   ],
   "source": [
    "data.head()"
   ]
  },
  {
   "cell_type": "markdown",
   "metadata": {
    "collapsed": true
   },
   "source": [
    "### 1. Appropriate Test\n",
    "#### Distribution\n",
    "The sample in the problem is Bernoulli distribution. <br>\n",
    "We have two such samples - one for 'w' and the other for 'b'. We can approach the solution in 2 ways - \n",
    "1. By running one sample tests on both these samples separately and comparing the means to arrive at the statistical significance.\n",
    "2. By running two sample test on both the samples and arriving at the statistical significance\n",
    "Both the approaches can be analyzed using Central Limit Theorem on the samples by drawing multiple samples from the given sample.\n",
    "\n",
    "### 2. Hypothesis\n",
    "H<sub>0</sub>: There is no racial discrimination; Mean callback for 'b' = Mean callback for 'w'<br>\n",
    "H<sub>a</sub>: There is racial discrimination; Mean callback for 'b' <> Mean callback for 'w'<br><br><br>\n",
    "\n",
    "<div  style=\"color:red\"> *The current solution only considers race factor while analyzing the callbacks and ignores all the others, even though they are valid factors that influence the interview call - like education, experience, honors, etc. The study will be expanded later.</div>"
   ]
  },
  {
   "cell_type": "markdown",
   "metadata": {},
   "source": [
    "#### Bootstrap Approach\n",
    "Bootstrap approach draws multiple samples from the available observation sample to construct a normal distribution as per Central Limit Theorem"
   ]
  },
  {
   "cell_type": "code",
   "execution_count": 6,
   "metadata": {},
   "outputs": [],
   "source": [
    "#Bootstrapping functions:\n",
    "\n",
    "def draw_bs_samples(data,func,choice_size,samp_size):\n",
    "    bs_perm_sample = np.empty(samp_size)\n",
    "    for i in np.arange(samp_size):\n",
    "        bs_perm_sample[i] = func(np.random.choice(data,choice_size))\n",
    "        \n",
    "    return bs_perm_sample\n",
    "\n",
    "def getNumBins(numObs):\n",
    "    num_bins = (int((1 + 3.322 * np.log(numObs))/5)+1)*5\n",
    "    return num_bins"
   ]
  },
  {
   "cell_type": "code",
   "execution_count": 7,
   "metadata": {},
   "outputs": [
    {
     "name": "stdout",
     "output_type": "stream",
     "text": [
      "w call mean: 0.09650924056768417\n",
      "b call mean: 0.0644763857126236\n"
     ]
    }
   ],
   "source": [
    "w = data[data.race=='w'].call\n",
    "b = data[data.race=='b'].call\n",
    "\n",
    "mean_w = np.mean(w)\n",
    "mean_b = np.mean(b)\n",
    "\n",
    "num_iterations = 10000\n",
    "alpha = 0.05\n",
    "\n",
    "print('w call mean:',mean_w)\n",
    "print('b call mean:',mean_b)"
   ]
  },
  {
   "cell_type": "code",
   "execution_count": 68,
   "metadata": {
    "scrolled": false
   },
   "outputs": [
    {
     "data": {
      "image/png": "[encoded data removed]",
      "text/plain": [
       "<Figure size 864x360 with 2 Axes>"
      ]
     },
     "metadata": {},
     "output_type": "display_data"
    }
   ],
   "source": [
    "choice_size = 200 # As per the 10% rule of independent sample, the chosen sample size is 200 < 10% of 2435\n",
    "\n",
    "w_clt_sample = draw_bs_samples(w,np.mean,choice_size,num_iterations)\n",
    "w_binsize=getNumBins(len(w_clt_sample))\n",
    "\n",
    "plt.figure(figsize=(12,5))\n",
    "\n",
    "plt.subplot(1,2,1)\n",
    "plt.hist(w_clt_sample,bins=w_binsize,density=1)\n",
    "plt.vlines(np.mean(w_clt_sample),0,40,colors='indigo',linestyles='dashed')\n",
    "plt.vlines(np.percentile(w_clt_sample,[2.5,97.5]),0,40,colors='y',linestyles='dashed')\n",
    "plt.vlines(mean_w,0,40,colors='r')\n",
    "plt.title('Probability Distribution: w calls\\n bootstrap mean='+ str(round(np.mean(w_clt_sample),4))+'\\nsample mean='+str(round(mean_w,4)))\n",
    "plt.xlabel('Mean of calls')\n",
    "plt.ylabel('PDF')\n",
    "\n",
    "b_clt_sample = draw_bs_samples(b,np.mean,choice_size,num_iterations)\n",
    "b_binsize=getNumBins(len(b_clt_sample))\n",
    "\n",
    "plt.subplot(1,2,2)\n",
    "plt.hist(b_clt_sample,bins=b_binsize,density=1)\n",
    "plt.vlines(np.mean(b_clt_sample),0,40,colors='indigo',linestyles='dashed')\n",
    "plt.vlines(np.percentile(b_clt_sample,[2.5,97.5]),0,40,colors='y',linestyles='dashed')\n",
    "plt.vlines(mean_b,0,40,colors='r')\n",
    "plt.title('Probability Distribution: b calls\\n bootstrap mean='+ str(round(np.mean(b_clt_sample),4))+'\\nsample mean='+str(round(mean_b,4)))\n",
    "plt.xlabel('Mean of calls')\n",
    "\n",
    "plt.tight_layout()\n",
    "plt.show()"
   ]
  },
  {
   "cell_type": "code",
   "execution_count": 24,
   "metadata": {},
   "outputs": [
    {
     "name": "stdout",
     "output_type": "stream",
     "text": [
      "Bootstrap approach:\n",
      "w:\n",
      "    Margin of Error that whites on an average receive an interview call: 0.0408\n",
      "    95% Confidence interval that whites on an average receive an interview call: [0.0556 0.1372]\n",
      "    95% Confidence interval that of 2435 applications from white people, number that receive an interview call: [135. 334.]\n",
      "b:\n",
      "    Margin of Error that blacks on an average receive an interview call: 0.0339\n",
      "    95% Confidence interval that blacks on an average receive an interview call: [0.0309 0.0987]\n",
      "    95% Confidence interval that of 2435 applications from black people, number that receive an interview call: [ 75. 240.]\n",
      "\n",
      "p-value =  0.0357\n",
      "Reject H0: The data is STATISTICALLY SIGNIFICANTLY DIFFERENT between interview calls for blacks and whites; Mean callback for w <> Mean callback for b\n"
     ]
    }
   ],
   "source": [
    "# Hypothesis testing\n",
    "w_moe = st.norm.ppf(0.975)*np.std(w_clt_sample)\n",
    "w_conf_interval = [np.mean(w_clt_sample)-st.norm.ppf(0.975)*np.std(w_clt_sample), np.mean(w_clt_sample)+st.norm.ppf(0.975)*np.std(w_clt_sample)]\n",
    "print('Bootstrap approach:')\n",
    "print('w:')\n",
    "print('    Margin of Error that whites on an average receive an interview call:',round(w_moe,4))\n",
    "print('    95% Confidence interval that whites on an average receive an interview call:',np.round(w_conf_interval,4))\n",
    "print('    95% Confidence interval that of '+str(len(w))+' applications from white people, number that receive an interview call:',np.round(np.multiply(w_conf_interval,len(w))))\n",
    "\n",
    "b_moe = st.norm.ppf(0.975)*np.std(b_clt_sample)\n",
    "b_conf_interval = [np.mean(b_clt_sample)-st.norm.ppf(0.975)*np.std(b_clt_sample), np.mean(b_clt_sample)+st.norm.ppf(0.975)*np.std(b_clt_sample)]\n",
    "print('b:')\n",
    "print('    Margin of Error that blacks on an average receive an interview call:',round(b_moe,4))\n",
    "print('    95% Confidence interval that blacks on an average receive an interview call:',np.round(b_conf_interval,4))\n",
    "print('    95% Confidence interval that of '+str(len(b))+' applications from black people, number that receive an interview call:',np.round(np.multiply(b_conf_interval,len(b))))\n",
    "\n",
    "# If Null Hypothesis were true, the mean of number of calls for blacks = mean of number of calls for whites.\n",
    "p = np.sum(b_clt_sample>=mean_w)/len(b_clt_sample)\n",
    "print('\\np-value = ',p)\n",
    "\n",
    "if p > alpha:\n",
    "    print('Fail to reject H0: The data is NOT STATISTICALLY SIGNIFICANTLY DIFFERENT between interview calls for blacks and whites; Mean callback for w = Mean callback for b')\n",
    "else:\n",
    "    print('Reject H0: The data is STATISTICALLY SIGNIFICANTLY DIFFERENT between interview calls for blacks and whites; Mean callback for w <> Mean callback for b')\n"
   ]
  },
  {
   "cell_type": "code",
   "execution_count": 20,
   "metadata": {},
   "outputs": [
    {
     "data": {
      "text/plain": [
       "array([135.35092232, 334.04889794])"
      ]
     },
     "execution_count": 20,
     "metadata": {},
     "output_type": "execute_result"
    }
   ],
   "source": [
    "np.multiply(w_conf_interval,2435)"
   ]
  },
  {
   "cell_type": "markdown",
   "metadata": {},
   "source": [
    "##### Conclusion\n",
    "As analyzed above using bootstrap approach and Central Limit Thoerem, we reject H<sub>0</sub> concluding that the data suggests interview calls are racially biased - whites tend to get more calls than blacks do."
   ]
  },
  {
   "cell_type": "markdown",
   "metadata": {},
   "source": [
    "#### Frequentist Approach\n",
    "Frequentist approach deduces the statistic using the observation sample"
   ]
  },
  {
   "cell_type": "code",
   "execution_count": 12,
   "metadata": {},
   "outputs": [
    {
     "name": "stdout",
     "output_type": "stream",
     "text": [
      "Proportion of whites getting interview calls:  0.09650924024640657\n",
      "Proportion of blacks getting interview calls:  0.06447638603696099\n"
     ]
    }
   ],
   "source": [
    "prop_w_calls = sum(w==1)/len(w)\n",
    "prop_b_calls = sum(b==1)/len(b)\n",
    "print('Proportion of whites getting interview calls: ',prop_w_calls)\n",
    "print('Proportion of blacks getting interview calls: ',prop_b_calls)"
   ]
  },
  {
   "cell_type": "markdown",
   "metadata": {},
   "source": [
    "As the numbers above suggest there's a clear difference in the proportion of calls between whites and blacks<br><br>\n",
    "\n",
    "The same hypothesis applies in the frequentist analysis<br>\n",
    "\n",
    "H<sub>0</sub>: There is no racial discrimination; Mean callback for 'b' = Mean callback for 'w'<br>\n",
    "H<sub>a</sub>: There is racial discrimination; Mean callback for 'b' <> Mean callback for 'w'"
   ]
  },
  {
   "cell_type": "code",
   "execution_count": 48,
   "metadata": {},
   "outputs": [
    {
     "name": "stdout",
     "output_type": "stream",
     "text": [
      "z value for b: -5.353019358042918\n",
      "p value for b: 4.32492956813822e-08\n",
      "Reject H0: The data is STATISTICALLY SIGNIFICANTLY DIFFERENT between interview calls for blacks and whites; Mean callback for w <> Mean callback for b\n",
      "\n",
      "z value for b through statsmodels: -6.436020213191311\n",
      "p value for b through statsmodels: 1.2264670785805746e-10\n",
      "Reject H0: The data is STATISTICALLY SIGNIFICANTLY DIFFERENT between interview calls for blacks and whites; Mean callback for w <> Mean callback for b\n"
     ]
    }
   ],
   "source": [
    "#Theoretical:\n",
    "#Null Hypothesis assumes that prop_b_calls = prop_w_calls. Based on the assumption, \n",
    "\n",
    "z_b = (prop_b_calls-prop_w_calls)/np.sqrt(prop_w_calls*(1-prop_w_calls)/len(b))\n",
    "\n",
    "print('z value for b:', z_b)\n",
    "p_b = st.norm.cdf(z_b)\n",
    "print('p value for b:', p_b)\n",
    "if p_b > alpha:\n",
    "    print('Fail to reject H0: The data is NOT STATISTICALLY SIGNIFICANTLY DIFFERENT between interview calls for blacks and whites; Mean callback for w = Mean callback for b')\n",
    "else:\n",
    "    print('Reject H0: The data is STATISTICALLY SIGNIFICANTLY DIFFERENT between interview calls for blacks and whites; Mean callback for w <> Mean callback for b')\n",
    "\n",
    "#Through Python statsmodels:\n",
    "z_b_st, p_b_st = stprop.proportions_ztest(sum(b==1),len(b),prop_w_calls)\n",
    "print('\\nz value for b through statsmodels:', z_b_st)\n",
    "print('p value for b through statsmodels:', p_b_st)\n",
    "if p_b_st > alpha:\n",
    "    print('Fail to reject H0: The data is NOT STATISTICALLY SIGNIFICANTLY DIFFERENT between interview calls for blacks and whites; Mean callback for w = Mean callback for b')\n",
    "else:\n",
    "    print('Reject H0: The data is STATISTICALLY SIGNIFICANTLY DIFFERENT between interview calls for blacks and whites; Mean callback for w <> Mean callback for b')\n"
   ]
  },
  {
   "cell_type": "code",
   "execution_count": 75,
   "metadata": {},
   "outputs": [
    {
     "name": "stderr",
     "output_type": "stream",
     "text": [
      "C:\\Users\\km4147\\AppData\\Local\\Continuum\\anaconda3\\lib\\site-packages\\ipykernel_launcher.py:10: MatplotlibDeprecationWarning: scipy.stats.norm.pdf\n",
      "  # Remove the CWD from sys.path while we load stuff.\n",
      "C:\\Users\\km4147\\AppData\\Local\\Continuum\\anaconda3\\lib\\site-packages\\ipykernel_launcher.py:15: MatplotlibDeprecationWarning: scipy.stats.norm.pdf\n",
      "  from ipykernel import kernelapp as app\n"
     ]
    },
    {
     "data": {
      "image/png": "[encoded data removed]",
      "text/plain": [
       "<Figure size 864x360 with 1 Axes>"
      ]
     },
     "metadata": {},
     "output_type": "display_data"
    }
   ],
   "source": [
    "plt.figure(figsize=(12,5))\n",
    "\n",
    "mu_b = prop_b_calls\n",
    "sigma_b = np.sqrt(prop_b_calls*(1-prop_b_calls)/len(b))\n",
    "\n",
    "mu_w = prop_w_calls\n",
    "sigma_w = np.sqrt(prop_w_calls*(1-prop_w_calls)/len(w))\n",
    "\n",
    "x_b = np.linspace(mu_b - 3*sigma_b, mu_b + 3*sigma_b, 100)\n",
    "plt.plot(x_b,mlab.normpdf(x_b, mu_b, sigma_b),label='b')\n",
    "plt.vlines(mu_b,0,100,colors='g',linestyles='dashed')\n",
    "plt.vlines([mu_b-2*sigma_b, mu_b+2*sigma_b],0,100,colors='y',linestyles='dashed')\n",
    "\n",
    "x_w = np.linspace(mu_w - 3*sigma_w, mu_w + 3*sigma_w, 100)\n",
    "plt.plot(x_w,mlab.normpdf(x_w, mu_w, sigma_w),label='w')\n",
    "plt.vlines(mu_w,0,100,colors='g',linestyles='dashed')\n",
    "plt.vlines([mu_w-2*sigma_w, mu_w+2*sigma_w],0,100,colors='y',linestyles='dashed')\n",
    "\n",
    "plt.xlabel('Mean of receiving interview call')\n",
    "plt.ylabel('PDF')\n",
    "plt.legend()\n",
    "plt.show()"
   ]
  },
  {
   "cell_type": "markdown",
   "metadata": {},
   "source": [
    "As evidenced above, there's clearly no statistical significance between the percentage of white people receiving the calls and that of black people receiving interview calls - considering only race as a factor and ignoring all the others.\n",
    "\n",
    "## Conclusion\n",
    "While the analysis shows that race is a significant factor in calling for interview, there are many other factors like education, experience, availability, location, etc. that may negate the conclusion we drew considering only race. The analysis can be amended by considering all these important factors and painting a complete picture of racial discrimination"
   ]
  }
 ],
 "metadata": {
  "kernelspec": {
   "display_name": "Python 3",
   "language": "python",
   "name": "python3"
  },
  "language_info": {
   "codemirror_mode": {
    "name": "ipython",
    "version": 3
   },
   "file_extension": ".py",
   "mimetype": "text/x-python",
   "name": "python",
   "nbconvert_exporter": "python",
   "pygments_lexer": "ipython3",
   "version": "3.7.1"
  }
 },
 "nbformat": 4,
 "nbformat_minor": 1
}
